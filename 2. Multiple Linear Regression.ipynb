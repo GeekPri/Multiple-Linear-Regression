{
 "cells": [
  {
   "cell_type": "code",
   "execution_count": 155,
   "id": "b32aad20-e7f8-4cac-b05b-32371339a119",
   "metadata": {},
   "outputs": [
    {
     "name": "stderr",
     "output_type": "stream",
     "text": [
      "C:\\Users\\mpriy\\anaconda3\\Lib\\site-packages\\sklearn\\base.py:493: UserWarning: X does not have valid feature names, but LinearRegression was fitted with feature names\n",
      "  warnings.warn(\n"
     ]
    }
   ],
   "source": [
    "#data collect\n",
    "import pandas as pd\n",
    "dataset = pd.read_csv(\"50_Startups.csv\")\n",
    "\n",
    "dataset = pd.get_dummies(dataset, drop_first=\"true\")\n",
    "\n",
    "#recognize the input and output\n",
    "independent = dataset[['R&D Spend', 'Administration', 'Marketing Spend',\n",
    "       'State_Florida', 'State_New York']]\n",
    "dependent = dataset['Profit']\n",
    "\n",
    "\n",
    "#import matplotlib.pyplot as py\n",
    "#py.scatter(independent, dependent)\n",
    "#py.show()\n",
    "\n",
    "\n",
    "#Split Data for training and testing\n",
    "from sklearn.model_selection import train_test_split\n",
    "X_train, X_test, Y_train, Y_test = train_test_split(independent, dependent, train_size= 0.30, random_state= 0)\n",
    "\n",
    "#create model\n",
    "from sklearn.linear_model import LinearRegression\n",
    "regressor = LinearRegression()\n",
    "regressor.fit(X_train, Y_train)\n",
    "\n",
    "weigth = regressor.coef_\n",
    "bias = regressor.intercept_\n",
    "\n",
    "#evaluate\n",
    "y_pred = regressor.predict(X_test)\n",
    "\n",
    "#metrics R2 score\n",
    "from sklearn.metrics import r2_score\n",
    "r_score = r2_score( Y_test, y_pred)\n",
    "\n",
    "#Save the regressor model\n",
    "import pickle \n",
    "filename = \"finalized_Model_Multi_Linear1.sav\"\n",
    "pickle.dump(regressor, open(filename, \"wb\"))\n",
    "\n",
    "#load and test\n",
    "loaded_model = pickle.load(open(\"finalized_Model_Multi_Linear1.sav\", \"rb\"))\n",
    "result = loaded_model.predict([ [1234,345,4565,1,0]]) \n",
    "\n",
    " \n"
   ]
  },
  {
   "cell_type": "code",
   "execution_count": 159,
   "id": "f8be339b-a2cc-48db-a853-94b5fe07f24a",
   "metadata": {},
   "outputs": [
    {
     "data": {
      "text/plain": [
       "0.9025640641127657"
      ]
     },
     "execution_count": 159,
     "metadata": {},
     "output_type": "execute_result"
    }
   ],
   "source": [
    "r_score"
   ]
  },
  {
   "cell_type": "code",
   "execution_count": 161,
   "id": "c431f663-9a6e-42ba-8c53-1b2d5aa9b82f",
   "metadata": {},
   "outputs": [
    {
     "data": {
      "text/plain": [
       "array([62944.22470066])"
      ]
     },
     "execution_count": 161,
     "metadata": {},
     "output_type": "execute_result"
    }
   ],
   "source": [
    "result"
   ]
  },
  {
   "cell_type": "code",
   "execution_count": null,
   "id": "e3dba2e5-cb62-44ff-88d0-eff529a7aa84",
   "metadata": {},
   "outputs": [],
   "source": []
  }
 ],
 "metadata": {
  "kernelspec": {
   "display_name": "Python [conda env:base] *",
   "language": "python",
   "name": "conda-base-py"
  },
  "language_info": {
   "codemirror_mode": {
    "name": "ipython",
    "version": 3
   },
   "file_extension": ".py",
   "mimetype": "text/x-python",
   "name": "python",
   "nbconvert_exporter": "python",
   "pygments_lexer": "ipython3",
   "version": "3.12.7"
  }
 },
 "nbformat": 4,
 "nbformat_minor": 5
}
