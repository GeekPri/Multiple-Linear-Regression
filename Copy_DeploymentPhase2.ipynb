{
 "cells": [
  {
   "cell_type": "code",
   "execution_count": 4,
   "id": "1637d4ca-e2ed-4929-9889-82faa5f3fede",
   "metadata": {},
   "outputs": [
    {
     "name": "stdout",
     "output_type": "stream",
     "text": [
      "Predicted Profit1:  [53236.81085503]\n",
      "Predicted Profit2:  [53153.5555029]\n",
      "Predicted Profit3:  [49966.81411196]\n"
     ]
    },
    {
     "name": "stderr",
     "output_type": "stream",
     "text": [
      "C:\\Users\\mpriy\\anaconda3\\Lib\\site-packages\\sklearn\\base.py:493: UserWarning: X does not have valid feature names, but LinearRegression was fitted with feature names\n",
      "  warnings.warn(\n",
      "C:\\Users\\mpriy\\anaconda3\\Lib\\site-packages\\sklearn\\base.py:493: UserWarning: X does not have valid feature names, but LinearRegression was fitted with feature names\n",
      "  warnings.warn(\n",
      "C:\\Users\\mpriy\\anaconda3\\Lib\\site-packages\\sklearn\\base.py:493: UserWarning: X does not have valid feature names, but LinearRegression was fitted with feature names\n",
      "  warnings.warn(\n"
     ]
    }
   ],
   "source": [
    "import pickle as pk\n",
    "\n",
    "loaded_model = pk.load(open(\"finalized_Model_Multi_Linear1.sav\", \"rb\"))\n",
    " \n",
    "\n",
    "predictedProfit1 = loaded_model.predict([ [100,100,100,0,1 ]])\n",
    "\n",
    "predictedProfit2 = loaded_model.predict([ [0,0,0,0,1 ]])\n",
    "\n",
    "predictedProfit3 = loaded_model.predict([ [0,0,0,0,0 ]])\n",
    "print(\"Predicted Profit1: \", predictedProfit1)\n",
    "\n",
    "print(\"Predicted Profit2: \", predictedProfit2)\n",
    "\n",
    "print(\"Predicted Profit3: \", predictedProfit3)"
   ]
  },
  {
   "cell_type": "code",
   "execution_count": null,
   "id": "9112a000-06b9-4b50-b3d2-6cd56d073be7",
   "metadata": {},
   "outputs": [],
   "source": []
  }
 ],
 "metadata": {
  "kernelspec": {
   "display_name": "Python [conda env:base] *",
   "language": "python",
   "name": "conda-base-py"
  },
  "language_info": {
   "codemirror_mode": {
    "name": "ipython",
    "version": 3
   },
   "file_extension": ".py",
   "mimetype": "text/x-python",
   "name": "python",
   "nbconvert_exporter": "python",
   "pygments_lexer": "ipython3",
   "version": "3.12.7"
  }
 },
 "nbformat": 4,
 "nbformat_minor": 5
}
